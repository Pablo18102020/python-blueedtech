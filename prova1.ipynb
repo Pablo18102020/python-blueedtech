{
  "nbformat": 4,
  "nbformat_minor": 0,
  "metadata": {
    "colab": {
      "name": "prova1.ipynb",
      "provenance": [],
      "authorship_tag": "ABX9TyPbDI4r8xUgQrs0vgX7huE3",
      "include_colab_link": true
    },
    "kernelspec": {
      "name": "python3",
      "display_name": "Python 3"
    },
    "language_info": {
      "name": "python"
    }
  },
  "cells": [
    {
      "cell_type": "markdown",
      "metadata": {
        "id": "view-in-github",
        "colab_type": "text"
      },
      "source": [
        "<a href=\"https://colab.research.google.com/github/Pablo18102020/python-blueedtech/blob/main/prova1.ipynb\" target=\"_parent\"><img src=\"https://colab.research.google.com/assets/colab-badge.svg\" alt=\"Open In Colab\"/></a>"
      ]
    },
    {
      "cell_type": "markdown",
      "metadata": {
        "id": "gnIfmwWuBcP3"
      },
      "source": [
        "Conversor de moedas"
      ]
    },
    {
      "cell_type": "code",
      "metadata": {
        "colab": {
          "base_uri": "https://localhost:8080/"
        },
        "id": "EfwJ5jkLBiR2",
        "outputId": "d335a247-6b38-4fea-8c29-7b93d13668be"
      },
      "source": [
        " dolar = float(input(\"digite o valor do dólar: $\"))\n",
        " cotacao = 5.75 \n",
        " valor_reais = dolar * cotacao\n",
        " print(f\"O valor convertido em reais é R$ {valor_reais}\")\n"
      ],
      "execution_count": 44,
      "outputs": [
        {
          "output_type": "stream",
          "text": [
            "digite o valor do dólar: $2\n",
            "O valor convertido em reais é R$ 11.5\n"
          ],
          "name": "stdout"
        }
      ]
    },
    {
      "cell_type": "code",
      "metadata": {
        "colab": {
          "base_uri": "https://localhost:8080/"
        },
        "id": "_4tMKF2SHAVB",
        "outputId": "ac30da04-4ea4-4169-dcd5-80ead7e4c650"
      },
      "source": [
        "real = float(input(\"digite o valor do real: R$\"))\n",
        "print(r / 5.75)\n"
      ],
      "execution_count": 22,
      "outputs": [
        {
          "output_type": "stream",
          "text": [
            "digite o valor do real: R$11.5\n",
            "2.0\n"
          ],
          "name": "stdout"
        }
      ]
    },
    {
      "cell_type": "markdown",
      "metadata": {
        "id": "Ppv20GLwJ0En"
      },
      "source": [
        "Calculadora de aumento de aluguel"
      ]
    },
    {
      "cell_type": "code",
      "metadata": {
        "colab": {
          "base_uri": "https://localhost:8080/"
        },
        "id": "xKslbqkwJ3h6",
        "outputId": "527c2661-8b22-470c-adcd-595a9f12c694"
      },
      "source": [
        "aluguel = float(input(\"digite o valor do aluguel: R$\"))\n",
        "print(d * 1.31)"
      ],
      "execution_count": 61,
      "outputs": [
        {
          "output_type": "stream",
          "text": [
            "digite o valor do aluguel: R$1000\n",
            "2620.0\n"
          ],
          "name": "stdout"
        }
      ]
    },
    {
      "cell_type": "code",
      "metadata": {
        "colab": {
          "base_uri": "https://localhost:8080/"
        },
        "id": "WgGLocJIPD55",
        "outputId": "a46bfafc-7b00-4713-f74e-b3e32a36370b"
      },
      "source": [
        "# Vamos pedir o valor original do produto\n",
        "valor_original = float( input(\"Valor original: R$ \") )\n",
        "\n",
        "# Valo percentual geral\n",
        "valor_percentual_do_reajuste = valor_original / valor_percentual_do_reajuste \n",
        "\n",
        "\n",
        "# Novo valor\n",
        "novo_valor = valor_original * 1.31\n",
        "\n",
        "\n",
        "\n",
        "# Exibindo tudo\n",
        "\n",
        "print('Percentual do reajuste:  %', valor_percentual_do_reajuste)\n",
        "print('Valor do aluguel reajustado: R$', novo_valor)\n"
      ],
      "execution_count": 60,
      "outputs": [
        {
          "output_type": "stream",
          "text": [
            "Valor original: R$ 1000\n",
            "Percentual do reajuste:  % -0.20866989768443728\n",
            "Valor do aluguel reajustado: R$ 1310.0\n"
          ],
          "name": "stdout"
        }
      ]
    },
    {
      "cell_type": "markdown",
      "metadata": {
        "id": "vwZuoo4MRPCO"
      },
      "source": [
        "Calculadora de dano"
      ]
    },
    {
      "cell_type": "code",
      "metadata": {
        "colab": {
          "base_uri": "https://localhost:8080/"
        },
        "id": "8fOd3AAXRXFo",
        "outputId": "4387c42b-216f-4ad9-8047-d8a6d762624c"
      },
      "source": [
        " \n",
        "#resposta parte 1\n",
        "vida_monstro = int(input('vida de um monstro (entre 10 e 50): '))\n",
        "ataque_jogador = int(input('valor do ataque (entre 5 e 10: '))\n",
        "\n",
        "turnos_necessarios = (vida_monstro // ataque_jogador) + (vida_monstro % ataque_jogador > 0)\n",
        "print(f'o jogador terá que utilizar {turnos_necessarios} turnos para derrotar o monstro')\n",
        "\n"
      ],
      "execution_count": 73,
      "outputs": [
        {
          "output_type": "stream",
          "text": [
            "vida de um monstro (entre 10 e 50): 25\n",
            "valor do ataque (entre 5 e 10: 5\n",
            "o jogador terá que utilizar 5 turnos para derrotar o monstro\n"
          ],
          "name": "stdout"
        }
      ]
    },
    {
      "cell_type": "code",
      "metadata": {
        "colab": {
          "base_uri": "https://localhost:8080/"
        },
        "id": "rEUaAIgzZclF",
        "outputId": "f1bd1528-c64a-46f9-821e-27a4c41dfdd3"
      },
      "source": [
        "#resposta parte 2\n",
        "import random\n",
        "vida_monstro = random.randrange(1, 50)\n",
        "ataque_jogador = int(input('valor do ataque (entre 5 e 10: '))\n",
        "\n",
        "turnos_necessarios = (vida_monstro // ataque_jogador) + (vida_monstro % ataque_jogador > 0)\n",
        "print(f'o jogador terá que utilizar {turnos_necessarios} turnos para derrotar o monstro')\n",
        "print()\n",
        "\n",
        "\n",
        "\n",
        "\n",
        "\n",
        "\n",
        "\n"
      ],
      "execution_count": 77,
      "outputs": [
        {
          "output_type": "stream",
          "text": [
            "valor do ataque (entre 5 e 10: 6\n",
            "o jogador terá que utilizar 2 turnos para derrotar o monstro\n",
            "\n"
          ],
          "name": "stdout"
        }
      ]
    }
  ]
}